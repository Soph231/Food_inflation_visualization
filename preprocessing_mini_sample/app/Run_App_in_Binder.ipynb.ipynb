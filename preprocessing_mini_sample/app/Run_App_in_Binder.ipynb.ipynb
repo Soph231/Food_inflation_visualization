{
 "cells": [
  {
   "cell_type": "code",
   "execution_count": null,
   "id": "30e2eaec-2728-4630-a4bd-093445bdfea9",
   "metadata": {},
   "outputs": [],
   "source": [
    "# 1: install extra deps (Binder auto-installs requirements.txt, but just in case)\n",
    "!pip install -r requirements.txt\n"
   ]
  },
  {
   "cell_type": "code",
   "execution_count": null,
   "id": "d90a2aed-09dd-493a-92c6-b0ac983b1024",
   "metadata": {},
   "outputs": [],
   "source": [
    "#2: run the Dash app (in Binder, we usually use jupyter-server-proxy)\n",
    "import os\n",
    "os.environ[\"PORT\"] = \"8050\"\n",
    "!python sample_app.py"
   ]
  }
 ],
 "metadata": {
  "kernelspec": {
   "display_name": "Python 3 (ipykernel)",
   "language": "python",
   "name": "python3"
  },
  "language_info": {
   "codemirror_mode": {
    "name": "ipython",
    "version": 3
   },
   "file_extension": ".py",
   "mimetype": "text/x-python",
   "name": "python",
   "nbconvert_exporter": "python",
   "pygments_lexer": "ipython3",
   "version": "3.13.5"
  }
 },
 "nbformat": 4,
 "nbformat_minor": 5
}
