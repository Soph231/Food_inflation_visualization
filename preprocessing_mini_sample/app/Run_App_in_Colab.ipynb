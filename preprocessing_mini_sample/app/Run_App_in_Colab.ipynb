{
 "cells": [
  {
   "cell_type": "code",
   "execution_count": null,
   "id": "8214b060-19a9-43a9-9d2d-9982e4920f93",
   "metadata": {},
   "outputs": [],
   "source": [
    "# If the notebook is opened directly from GitHub in Colab, files aren't on disk yet.\n",
    "# Clone the repo into /content the first time.\n",
    "import os, pathlib, sys, subprocess\n",
    "\n",
    "REPO_URL = \"https://github.com/Soph231/Food_inflation_visualization.git\"\n",
    "REPO_DIR = \"/content/Food_inflation_visualization\"\n",
    "APP_DIR  = f\"{REPO_DIR}/preprocessing_mini_sample/app\"\n",
    "\n",
    "if not os.path.exists(APP_DIR):\n",
    "    print(\"Cloning repository...\")\n",
    "    subprocess.run([\"git\", \"clone\", REPO_URL], check=True)\n",
    "else:\n",
    "    print(\"Repository already present.\")\n",
    "\n",
    "os.chdir(APP_DIR)\n",
    "print(\"Working directory:\", os.getcwd())\n"
   ]
  },
  {
   "cell_type": "code",
   "execution_count": null,
   "id": "58eb7da9-a681-4ae0-a485-ef0691236da7",
   "metadata": {},
   "outputs": [],
   "source": [
    "# Install the app requirements and pyngrok for tunneling\n",
    "!pip -q install -r requirements.txt pyngrok\n",
    "\n",
    "# (Optional) show versions for debugging\n",
    "import dash, plotly, pandas as pd\n",
    "print(\"dash:\", dash.__version__)\n",
    "print(\"plotly:\", plotly.__version__)\n",
    "print(\"pandas:\", pd.__version__)\n"
   ]
  },
  {
   "cell_type": "code",
   "execution_count": null,
   "id": "b5321507-59fa-4b4d-88ea-0788bdf7f306",
   "metadata": {},
   "outputs": [],
   "source": [
    "import sys, shlex, subprocess, time, itertools\n",
    "from pyngrok import ngrok\n",
    "\n",
    "# Start a tunnel to port 8050 (Dash default)\n",
    "public_url = ngrok.connect(8050).public_url\n",
    "print(\"Public URL:\", public_url)\n",
    "\n",
    "# Start the Dash app as a background process\n",
    "proc = subprocess.Popen(shlex.split(f\"{sys.executable} app.py\"),\n",
    "                        stdout=subprocess.PIPE, stderr=subprocess.STDOUT)\n",
    "\n",
    "# Stream a few log lines so you can see it's running\n",
    "time.sleep(3)\n",
    "for line in itertools.islice(iter(proc.stdout.readline, b''), 40):\n",
    "    print(line.decode(\"utf-8\").rstrip())\n",
    "\n",
    "print(\"\\n✅ App is starting. Open the Public URL above in a new tab.\")\n",
    "print(\"Keep this Colab runtime running to keep the app alive.\")\n"
   ]
  }
 ],
 "metadata": {
  "kernelspec": {
   "display_name": "Python 3 (ipykernel)",
   "language": "python",
   "name": "python3"
  },
  "language_info": {
   "codemirror_mode": {
    "name": "ipython",
    "version": 3
   },
   "file_extension": ".py",
   "mimetype": "text/x-python",
   "name": "python",
   "nbconvert_exporter": "python",
   "pygments_lexer": "ipython3",
   "version": "3.13.5"
  }
 },
 "nbformat": 4,
 "nbformat_minor": 5
}
